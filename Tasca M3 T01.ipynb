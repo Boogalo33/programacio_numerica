{
 "cells": [
  {
   "cell_type": "code",
   "execution_count": 5,
   "id": "537c7ac2",
   "metadata": {},
   "outputs": [
    {
     "data": {
      "text/plain": [
       "array([0, 0, 1])"
      ]
     },
     "execution_count": 5,
     "metadata": {},
     "output_type": "execute_result"
    }
   ],
   "source": [
    "from sklearn.datasets import load_iris\n",
    "data = load_iris()\n",
    "data.target[[10, 25, 50]]"
   ]
  },
  {
   "cell_type": "code",
   "execution_count": 11,
   "id": "781500f9",
   "metadata": {},
   "outputs": [
    {
     "name": "stdout",
     "output_type": "stream",
     "text": [
      "Primeros 10 registros de los datos:\n",
      "[[5.1 3.5 1.4 0.2]\n",
      " [4.9 3.  1.4 0.2]\n",
      " [4.7 3.2 1.3 0.2]\n",
      " [4.6 3.1 1.5 0.2]\n",
      " [5.  3.6 1.4 0.2]\n",
      " [5.4 3.9 1.7 0.4]\n",
      " [4.6 3.4 1.4 0.3]\n",
      " [5.  3.4 1.5 0.2]\n",
      " [4.4 2.9 1.4 0.2]\n",
      " [4.9 3.1 1.5 0.1]]\n",
      "\n",
      "Primeros 10 registros de las etiquetas:\n",
      "[0 0 0 0 0 0 0 0 0 0]\n"
     ]
    }
   ],
   "source": [
    "#Ejercicio 1\n",
    "\n",
    "#importamos en numpy como np\n",
    "import numpy as np\n",
    "from sklearn.datasets import load_iris\n",
    "\n",
    "#cargamos el conjunto de datos\n",
    "iris = load_iris()\n",
    "\n",
    "# Accedemos a los datos de las flores y a las etiquetas de las especies.\n",
    "data = iris.data\n",
    "target = iris.target\n",
    "\n",
    "#Convertimos los datos en Array de numpy. \n",
    "data_np = np.array(data)\n",
    "target_np = np.array(target)\n",
    "\n",
    "# Visualizamos los 10 pirmeros registros de data (iris.data) y target (iris.target)\n",
    "print(\"Primeros 10 registros de los datos:\")\n",
    "print(data_np[:10, :])\n",
    "\n",
    "print(\"\\nPrimeros 10 registros de las etiquetas:\")\n",
    "print(target_np[:10])\n",
    "\n",
    "\n"
   ]
  },
  {
   "cell_type": "code",
   "execution_count": 15,
   "id": "b6838153",
   "metadata": {},
   "outputs": [
    {
     "name": "stdout",
     "output_type": "stream",
     "text": [
      "5 primeros registros del nuevo array:\n",
      "[[5.1 3.5 1.4 0.2 0. ]\n",
      " [4.9 3.  1.4 0.2 0. ]\n",
      " [4.7 3.2 1.3 0.2 0. ]\n",
      " [4.6 3.1 1.5 0.2 0. ]\n",
      " [5.  3.6 1.4 0.2 0. ]]\n"
     ]
    }
   ],
   "source": [
    "#Ejercicio 2\n",
    "\n",
    "#Aqui nos saltamos la primera parte de cargar los datos, ya que lo hemos cargado en el ejercicio anterior\n",
    "#y no es necesario volver hacerlo.\n",
    "\n",
    "#concatenamos la data y target en un nuevo Array.\n",
    "\n",
    "# Concatena \"data\" i \"target\" en un nou array. Usamos np.concatenate para unificar las caracteristicas.\n",
    "concatenated_array = np.concatenate((data_np, target_np.reshape(-1, 1)), axis=1)\n",
    "\n",
    "# Visualizamos los 5 primeros registros del nuevo array\n",
    "print(\"5 primeros registros del nuevo array:\")\n",
    "print(concatenated_array[:5, :])\n"
   ]
  },
  {
   "cell_type": "code",
   "execution_count": 20,
   "id": "2dc98a99",
   "metadata": {},
   "outputs": [
    {
     "name": "stdout",
     "output_type": "stream",
     "text": [
      "Media de la longitud del sépal es: 5.84\n",
      "D.standard de la longitud del sépal es: 0.83\n",
      "\\Media de la longitud del pètal es: 3.76\n",
      "Desv.standard de la longitud dell pètal es: 1.76\n"
     ]
    }
   ],
   "source": [
    "#Ejercicio 3\n",
    "#Cogemos solo la parte de data, ya qya la otra no nos interesa en este ejercicio.\n",
    "\n",
    "# Convertimos los datos en Array de numpy. \n",
    "data_np = np.array(data)\n",
    "\n",
    "# Calculamos la media y la desv.standard de la longitud del sepal y petal.\n",
    "sepal_length_mean = np.mean(data_np[:, 0])\n",
    "sepal_length_std = np.std(data_np[:, 0])\n",
    "\n",
    "petal_length_mean = np.mean(data_np[:, 2])\n",
    "petal_length_std = np.std(data_np[:, 2])\n",
    "\n",
    "# Mmostramos los resultados con 2 decimales.\n",
    "print(\"Media de la longitud del sépal es: {:.2f}\".format(sepal_length_mean))\n",
    "print(\"D.standard de la longitud del sépal es: {:.2f}\".format(sepal_length_std))\n",
    "print(\"\\Media de la longitud del pètal es: {:.2f}\".format(petal_length_mean))\n",
    "print(\"Desv.standard de la longitud dell pètal es: {:.2f}\".format(petal_length_std))\n"
   ]
  },
  {
   "cell_type": "code",
   "execution_count": 23,
   "id": "21a18de0",
   "metadata": {},
   "outputs": [
    {
     "name": "stdout",
     "output_type": "stream",
     "text": [
      "Muestra aleatorio de 20 registros:\n",
      "[[5.2 3.4 1.4 0.2 0. ]\n",
      " [6.8 3.2 5.9 2.3 2. ]\n",
      " [6.1 3.  4.6 1.4 1. ]\n",
      " [4.8 3.4 1.6 0.2 0. ]\n",
      " [5.7 2.8 4.5 1.3 1. ]\n",
      " [4.7 3.2 1.3 0.2 0. ]\n",
      " [7.3 2.9 6.3 1.8 2. ]\n",
      " [5.  3.2 1.2 0.2 0. ]\n",
      " [5.9 3.  5.1 1.8 2. ]\n",
      " [4.6 3.1 1.5 0.2 0. ]\n",
      " [6.3 2.3 4.4 1.3 1. ]\n",
      " [6.7 2.5 5.8 1.8 2. ]\n",
      " [5.  3.5 1.6 0.6 0. ]\n",
      " [6.9 3.1 5.4 2.1 2. ]\n",
      " [6.6 3.  4.4 1.4 1. ]\n",
      " [4.9 3.6 1.4 0.1 0. ]\n",
      " [6.2 2.2 4.5 1.5 1. ]\n",
      " [4.9 3.  1.4 0.2 0. ]\n",
      " [5.9 3.2 4.8 1.8 1. ]\n",
      " [5.  2.3 3.3 1.  1. ]]\n"
     ]
    }
   ],
   "source": [
    "#Ejercicio 4\n",
    "\n",
    "# Concatenamos para combinar las caracteristicas y las etiquetas, como hicimos en el ejercicio2.\n",
    "concatenated_array = np.concatenate((data_np, target_np.reshape(-1, 1)), axis=1)\n",
    "\n",
    "# Selecciona uuna muestra aleatorio de 20 registros. Aquí usamos Np.random.choice para seleccionar los 20indices\n",
    "#sin reemplazo de los registros disponibles.\n",
    "random_sample_indices = np.random.choice(concatenated_array.shape[0], size=20, replace=False)\n",
    "random_sample = concatenated_array[random_sample_indices, :]\n",
    "\n",
    "# Mostra la mostra aleatòria\n",
    "print(\"Muestra aleatorio de 20 registros:\")\n",
    "print(random_sample)\n"
   ]
  },
  {
   "cell_type": "code",
   "execution_count": 29,
   "id": "03152ab3",
   "metadata": {},
   "outputs": [
    {
     "name": "stdout",
     "output_type": "stream",
     "text": [
      "Media y desv.standard de cada característica por especie:\n",
      "[[0. 0. 0. 0. 0.]\n",
      " [0. 0. 0. 0. 0.]\n",
      " [0. 0. 0. 0. 0.]]\n"
     ]
    }
   ],
   "source": [
    "#Ejercicio 5\n",
    "\n",
    "# Convertimos los datos en Array de numpy. \n",
    "data_np = np.array(data)\n",
    "\n",
    "# Volvemos a concatenar como ejercicios anteriores. \n",
    "concatenated_array = np.concatenate((data_np, target.reshape(-1, 1)), axis=1)\n",
    "\n",
    "# Creamos una matrizar para guardar la media y la desv.standard por especie.\n",
    "# la matriz tiene 3filas (especies) 5 columnas(4 para las carecterosticas y 1 para la etiqueta de la especie) \n",
    "resultado_matrix = np.zeros((3, data.shape[1] + 1))  #la  3 espècies, 4 característiques + 1 columna per a l'etiqueta\n",
    "\n",
    "# Iteramos para cada especie. Iniciamos un bucle que itera sobre cada especie, en el conjunto de datos hay 3 especies. \n",
    "for i in range(3):\n",
    "    # Filtramos los datos por especie.\n",
    "    species_data = concatenated_array[concatenated_array[:, -1] == i, :-1]\n",
    "    \n",
    "    # Calculamos la media y la desv.standard pro especie\n",
    "    mean_values = np.mean(species_data, axis=0)\n",
    "    std_values = np.std(species_data, axis=0)\n",
    "    \n",
    "    #guardamos los resultados en la matrix\n",
    "    result_matrix[i, :-1] = mean_values\n",
    "    result_matrix[i, -1] = i  \n",
    "\n",
    "# Mostramos los resultados con 2 decimales.\n",
    "np.set_printoptions(precision=2)\n",
    "print(\"Media y desv.standard de cada característica por especie:\")\n",
    "print(resultado_matrix)\n"
   ]
  },
  {
   "cell_type": "code",
   "execution_count": 34,
   "id": "88d36d34",
   "metadata": {},
   "outputs": [
    {
     "name": "stdout",
     "output_type": "stream",
     "text": [
      "Cantidad de muestras por especie:\n",
      "Especie 0: 50 muestras\n",
      "Especie 1: 50 muestras\n",
      "Especie 2: 50 muestras\n",
      "\n",
      "Especie con el valor máximo de la media de 'sepal length (cm)':\n",
      "Especie 2 con media de 6.59\n"
     ]
    }
   ],
   "source": [
    "#Ejercicio 6\n",
    "\n",
    "# Calculamos la cantidad de muestras por especie.\n",
    "samples_por_especies = np.bincount(concatenated_array[:, -1].astype(int))\n",
    "\n",
    "# Buscamos la especia con el valor máximo de la media de \"sepal length (cm)\"\n",
    "mean_sepal_length_por_especies = np.zeros(3)\n",
    "\n",
    "# Itera per cada espècie\n",
    "for i in range(3):\n",
    "    # Filtramos los datos por especie.\n",
    "    especies_data = concatenated_array[concatenated_array[:, -1] == i, :]\n",
    "    \n",
    "    # Calculamos la media de \"sepal length (cm)\" por especie\n",
    "    mean_sepal_length_por_especies[i] = np.mean(especies_data[:, 0])\n",
    "\n",
    "# Indice de la especie con la media maxima\n",
    "max_mean_especies_index = np.argmax(mean_sepal_length_por_especies)\n",
    "\n",
    "# Mostramos los resultados\n",
    "print(\"Cantidad de muestras por especie:\")\n",
    "for i in range(3):\n",
    "    print(f\"Especie {i}: {samples_per_species[i]} muestras\")\n",
    "\n",
    "print(\"\\nEspecie con el valor máximo de la media de 'sepal length (cm)':\")\n",
    "print(f\"Especie {max_mean_species_index} con media de {mean_sepal_length_por_especies[max_mean_species_index]:.2f}\")\n"
   ]
  },
  {
   "cell_type": "code",
   "execution_count": 38,
   "id": "0f72b2cd",
   "metadata": {},
   "outputs": [
    {
     "name": "stdout",
     "output_type": "stream",
     "text": [
      "Matriz de correlación entre las variables:\n",
      "                   sepal length (cm)  sepal width (cm)  petal length (cm)  \\\n",
      "sepal length (cm)           1.000000         -0.117570           0.871754   \n",
      "sepal width (cm)           -0.117570          1.000000          -0.428440   \n",
      "petal length (cm)           0.871754         -0.428440           1.000000   \n",
      "petal width (cm)            0.817941         -0.366126           0.962865   \n",
      "\n",
      "                   petal width (cm)  \n",
      "sepal length (cm)          0.817941  \n",
      "sepal width (cm)          -0.366126  \n",
      "petal length (cm)          0.962865  \n",
      "petal width (cm)           1.000000  \n",
      "\n",
      "Valores mayores a la media de la longitud de los pètals:\n",
      "     sepal length (cm)  sepal width (cm)  petal length (cm)  petal width (cm)\n",
      "50                 7.0               3.2                4.7               1.4\n",
      "51                 6.4               3.2                4.5               1.5\n",
      "52                 6.9               3.1                4.9               1.5\n",
      "53                 5.5               2.3                4.0               1.3\n",
      "54                 6.5               2.8                4.6               1.5\n",
      "..                 ...               ...                ...               ...\n",
      "145                6.7               3.0                5.2               2.3\n",
      "146                6.3               2.5                5.0               1.9\n",
      "147                6.5               3.0                5.2               2.0\n",
      "148                6.2               3.4                5.4               2.3\n",
      "149                5.9               3.0                5.1               1.8\n",
      "\n",
      "[93 rows x 4 columns]\n",
      "\n",
      "Muestra con los petalos más grandes:\n",
      "sepal length (cm)    7.7\n",
      "sepal width (cm)     2.6\n",
      "petal length (cm)    6.9\n",
      "petal width (cm)     2.3\n",
      "Name: 118, dtype: float64\n"
     ]
    }
   ],
   "source": [
    "#Ejercicio 7\n",
    "\n",
    "\n",
    "# Accedemos a los datos \n",
    "data = iris.data\n",
    "feature_names = iris.feature_names\n",
    "\n",
    "# Convertimos los datos en un DataFrame de Pandas\n",
    "df = pd.DataFrame(data, columns=feature_names)\n",
    "\n",
    "# Calculamos la matriz de correlación entre las variables\n",
    "correlation_matrix = df.corr()\n",
    "\n",
    "# Mostramos la matriz de correlación\n",
    "print(\"Matriz de correlación entre las variables:\")\n",
    "print(correlation_matrix)\n",
    "\n",
    "# Filtramos los valores mayores a la media de la longitud de petalos\n",
    "mean_petal_length = df['petal length (cm)'].mean()\n",
    "filtered_values = df[df['petal length (cm)'] > mean_petal_length]\n",
    "\n",
    "# Valores filtradose\n",
    "print(\"\\nValores mayores a la media de la longitud de los pètals:\")\n",
    "print(filtered_values)\n",
    "\n",
    "# Buscamos la muestra con los petalos más grandes\n",
    "max_petal_length_index = df['petal length (cm)'].idxmax()\n",
    "sample_with_max_petals = df.loc[max_petal_length_index]\n",
    "\n",
    "# La muestra con los petalos más grandes\n",
    "print(\"\\nMuestra con los petalos más grandes:\")\n",
    "print(sample_with_max_petals)\n"
   ]
  },
  {
   "cell_type": "code",
   "execution_count": 39,
   "id": "f5e2397e",
   "metadata": {},
   "outputs": [
    {
     "name": "stdout",
     "output_type": "stream",
     "text": [
      "Especie con la diferencia más grande entre la longitud de la media de sèpals y pètals:\n",
      "setosa\n"
     ]
    }
   ],
   "source": [
    "#Ejercicio 8\n",
    "\n",
    "#Importamos la librería numpy para operaciones numericas y luego la de pandas para manipular y analizar los datos\n",
    "import numpy as np\n",
    "import pandas as pd\n",
    "from sklearn.datasets import load_iris\n",
    "\n",
    "# Cargamos el cconjunto de datos\n",
    "iris = load_iris()\n",
    "\n",
    "# Accedemos a los datos: caracteristicas, nombres de caracteristicas y nombres de especies\n",
    "data = iris.data\n",
    "feature_names = iris.feature_names\n",
    "target_names = iris.target_names\n",
    "\n",
    "# Creamos un dataframe de pandas y agregamos una columna llamada \"species\"\n",
    "df = pd.DataFrame(data, columns=feature_names)\n",
    "df['species'] = target_names[iris.target]\n",
    "\n",
    "# Calculo de la media de la longitud de los sepals y pètals por especie\n",
    "mean_sepal_length = df.groupby('species')['sepal length (cm)'].mean()\n",
    "mean_petal_length = df.groupby('species')['petal length (cm)'].mean()\n",
    "\n",
    "# Calculamos la diferencia entre las medias\n",
    "difference = np.abs(mean_sepal_length - mean_petal_length)\n",
    "\n",
    "# BUscamos la especie con la diferencia mas grande\n",
    "max_difference_species = difference.idxmax()\n",
    "\n",
    "# Resultados\n",
    "print(\"Especie con la diferencia más grande entre la longitud de la media de sèpals y pètals:\")\n",
    "print(max_difference_species)\n"
   ]
  },
  {
   "cell_type": "code",
   "execution_count": null,
   "id": "d449c49c",
   "metadata": {},
   "outputs": [],
   "source": []
  }
 ],
 "metadata": {
  "kernelspec": {
   "display_name": "Python 3 (ipykernel)",
   "language": "python",
   "name": "python3"
  },
  "language_info": {
   "codemirror_mode": {
    "name": "ipython",
    "version": 3
   },
   "file_extension": ".py",
   "mimetype": "text/x-python",
   "name": "python",
   "nbconvert_exporter": "python",
   "pygments_lexer": "ipython3",
   "version": "3.9.13"
  }
 },
 "nbformat": 4,
 "nbformat_minor": 5
}
